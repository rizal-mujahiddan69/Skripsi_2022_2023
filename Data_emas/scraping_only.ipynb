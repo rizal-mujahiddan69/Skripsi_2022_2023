{
 "cells": [
  {
   "cell_type": "code",
   "execution_count": 1,
   "metadata": {},
   "outputs": [],
   "source": [
    "from selenium import webdriver\n",
    "from selenium.webdriver.common.keys import Keys\n",
    "from selenium.webdriver.common.by import By\n",
    "from bs4 import BeautifulSoup"
   ]
  },
  {
   "cell_type": "code",
   "execution_count": null,
   "metadata": {},
   "outputs": [],
   "source": []
  },
  {
   "cell_type": "code",
   "execution_count": 6,
   "metadata": {},
   "outputs": [
    {
     "ename": "JavascriptException",
     "evalue": "Message: TypeError: Highcharts.charts[0] is undefined\nStacktrace:\n@https://www.logammulia.com/id/harga-emas-hari-ini:2:7\n@https://www.logammulia.com/id/harga-emas-hari-ini:3:8\n",
     "output_type": "error",
     "traceback": [
      "\u001b[1;31m---------------------------------------------------------------------------\u001b[0m",
      "\u001b[1;31mJavascriptException\u001b[0m                       Traceback (most recent call last)",
      "\u001b[1;32mc:\\Kuliah\\Skripsi\\Data_emas\\scraping_only.ipynb Cell 3\u001b[0m in \u001b[0;36m<cell line: 7>\u001b[1;34m()\u001b[0m\n\u001b[0;32m      <a href='vscode-notebook-cell:/c%3A/Kuliah/Skripsi/Data_emas/scraping_only.ipynb#W2sZmlsZQ%3D%3D?line=3'>4</a>\u001b[0m driver\u001b[39m.\u001b[39mget(url)\n\u001b[0;32m      <a href='vscode-notebook-cell:/c%3A/Kuliah/Skripsi/Data_emas/scraping_only.ipynb#W2sZmlsZQ%3D%3D?line=4'>5</a>\u001b[0m driver\u001b[39m.\u001b[39mimplicitly_wait(\u001b[39m5\u001b[39m)\n\u001b[1;32m----> <a href='vscode-notebook-cell:/c%3A/Kuliah/Skripsi/Data_emas/scraping_only.ipynb#W2sZmlsZQ%3D%3D?line=6'>7</a>\u001b[0m jawaban \u001b[39m=\u001b[39m driver\u001b[39m.\u001b[39;49mexecute_script(\u001b[39m'\u001b[39;49m\u001b[39mHighcharts.charts[0].options.series[0].data\u001b[39;49m\u001b[39m'\u001b[39;49m)\n\u001b[0;32m      <a href='vscode-notebook-cell:/c%3A/Kuliah/Skripsi/Data_emas/scraping_only.ipynb#W2sZmlsZQ%3D%3D?line=7'>8</a>\u001b[0m \u001b[39m# svg = driver.find_element(By.XPATH,\"//*[name()='svg']\")\u001b[39;00m\n\u001b[0;32m      <a href='vscode-notebook-cell:/c%3A/Kuliah/Skripsi/Data_emas/scraping_only.ipynb#W2sZmlsZQ%3D%3D?line=8'>9</a>\u001b[0m \u001b[39m# print(svg.text)\u001b[39;00m\n\u001b[0;32m     <a href='vscode-notebook-cell:/c%3A/Kuliah/Skripsi/Data_emas/scraping_only.ipynb#W2sZmlsZQ%3D%3D?line=9'>10</a>\u001b[0m \u001b[39m# print(svg.rect)\u001b[39;00m\n\u001b[1;32m   (...)\u001b[0m\n\u001b[0;32m     <a href='vscode-notebook-cell:/c%3A/Kuliah/Skripsi/Data_emas/scraping_only.ipynb#W2sZmlsZQ%3D%3D?line=14'>15</a>\u001b[0m \u001b[39m#     d_attr = path.get('d')\u001b[39;00m\n\u001b[0;32m     <a href='vscode-notebook-cell:/c%3A/Kuliah/Skripsi/Data_emas/scraping_only.ipynb#W2sZmlsZQ%3D%3D?line=15'>16</a>\u001b[0m \u001b[39m#     print(d_attr)\u001b[39;00m\n\u001b[0;32m     <a href='vscode-notebook-cell:/c%3A/Kuliah/Skripsi/Data_emas/scraping_only.ipynb#W2sZmlsZQ%3D%3D?line=16'>17</a>\u001b[0m driver\u001b[39m.\u001b[39mclose()\n",
      "File \u001b[1;32mc:\\Users\\ASUS\\.conda\\envs\\ml\\lib\\site-packages\\selenium\\webdriver\\remote\\webdriver.py:500\u001b[0m, in \u001b[0;36mWebDriver.execute_script\u001b[1;34m(self, script, *args)\u001b[0m\n\u001b[0;32m    497\u001b[0m converted_args \u001b[39m=\u001b[39m \u001b[39mlist\u001b[39m(args)\n\u001b[0;32m    498\u001b[0m command \u001b[39m=\u001b[39m Command\u001b[39m.\u001b[39mW3C_EXECUTE_SCRIPT\n\u001b[1;32m--> 500\u001b[0m \u001b[39mreturn\u001b[39;00m \u001b[39mself\u001b[39;49m\u001b[39m.\u001b[39;49mexecute(command, {\u001b[39m\"\u001b[39;49m\u001b[39mscript\u001b[39;49m\u001b[39m\"\u001b[39;49m: script, \u001b[39m\"\u001b[39;49m\u001b[39margs\u001b[39;49m\u001b[39m\"\u001b[39;49m: converted_args})[\u001b[39m\"\u001b[39m\u001b[39mvalue\u001b[39m\u001b[39m\"\u001b[39m]\n",
      "File \u001b[1;32mc:\\Users\\ASUS\\.conda\\envs\\ml\\lib\\site-packages\\selenium\\webdriver\\remote\\webdriver.py:440\u001b[0m, in \u001b[0;36mWebDriver.execute\u001b[1;34m(self, driver_command, params)\u001b[0m\n\u001b[0;32m    438\u001b[0m response \u001b[39m=\u001b[39m \u001b[39mself\u001b[39m\u001b[39m.\u001b[39mcommand_executor\u001b[39m.\u001b[39mexecute(driver_command, params)\n\u001b[0;32m    439\u001b[0m \u001b[39mif\u001b[39;00m response:\n\u001b[1;32m--> 440\u001b[0m     \u001b[39mself\u001b[39;49m\u001b[39m.\u001b[39;49merror_handler\u001b[39m.\u001b[39;49mcheck_response(response)\n\u001b[0;32m    441\u001b[0m     response[\u001b[39m\"\u001b[39m\u001b[39mvalue\u001b[39m\u001b[39m\"\u001b[39m] \u001b[39m=\u001b[39m \u001b[39mself\u001b[39m\u001b[39m.\u001b[39m_unwrap_value(response\u001b[39m.\u001b[39mget(\u001b[39m\"\u001b[39m\u001b[39mvalue\u001b[39m\u001b[39m\"\u001b[39m, \u001b[39mNone\u001b[39;00m))\n\u001b[0;32m    442\u001b[0m     \u001b[39mreturn\u001b[39;00m response\n",
      "File \u001b[1;32mc:\\Users\\ASUS\\.conda\\envs\\ml\\lib\\site-packages\\selenium\\webdriver\\remote\\errorhandler.py:245\u001b[0m, in \u001b[0;36mErrorHandler.check_response\u001b[1;34m(self, response)\u001b[0m\n\u001b[0;32m    243\u001b[0m         alert_text \u001b[39m=\u001b[39m value[\u001b[39m\"\u001b[39m\u001b[39malert\u001b[39m\u001b[39m\"\u001b[39m]\u001b[39m.\u001b[39mget(\u001b[39m\"\u001b[39m\u001b[39mtext\u001b[39m\u001b[39m\"\u001b[39m)\n\u001b[0;32m    244\u001b[0m     \u001b[39mraise\u001b[39;00m exception_class(message, screen, stacktrace, alert_text)  \u001b[39m# type: ignore[call-arg]  # mypy is not smart enough here\u001b[39;00m\n\u001b[1;32m--> 245\u001b[0m \u001b[39mraise\u001b[39;00m exception_class(message, screen, stacktrace)\n",
      "\u001b[1;31mJavascriptException\u001b[0m: Message: TypeError: Highcharts.charts[0] is undefined\nStacktrace:\n@https://www.logammulia.com/id/harga-emas-hari-ini:2:7\n@https://www.logammulia.com/id/harga-emas-hari-ini:3:8\n"
     ]
    }
   ],
   "source": [
    "url = \"https://www.logammulia.com/id/harga-emas-hari-ini\"\n",
    "driver = webdriver.Firefox()\n",
    "\n",
    "driver.get(url)\n",
    "driver.implicitly_wait(5)\n",
    "\n",
    "jawaban = driver.execute_script('Highcharts.charts[0].options.series[0].data')\n",
    "# svg = driver.find_element(By.XPATH,\"//*[name()='svg']\")\n",
    "# print(svg.text)\n",
    "# print(svg.rect)\n",
    "# svg_html = svg.get_attribute('innerHTML')\n",
    "# soup = BeautifulSoup(svg_html,'lxml')\n",
    "# paths = soup.find_all('path')\n",
    "# for path in paths:\n",
    "#     d_attr = path.get('d')\n",
    "#     print(d_attr)\n",
    "driver.close()\n",
    "\n",
    "# soup = BeautifulSoup(svg_html, 'lxml')\n",
    "# data = soup.find_all('rect')\n",
    "# for i in data:\n",
    "#     print(i.get('y'))\n",
    "\n",
    "# driver.quit()"
   ]
  },
  {
   "cell_type": "code",
   "execution_count": null,
   "metadata": {},
   "outputs": [],
   "source": [
    "jawaban"
   ]
  },
  {
   "cell_type": "code",
   "execution_count": 53,
   "metadata": {},
   "outputs": [
    {
     "ename": "NoSuchWindowException",
     "evalue": "Message: Browsing context has been discarded\nStacktrace:\nRemoteError@chrome://remote/content/shared/RemoteError.sys.mjs:8:8\nWebDriverError@chrome://remote/content/shared/webdriver/Errors.sys.mjs:182:5\nNoSuchWindowError@chrome://remote/content/shared/webdriver/Errors.sys.mjs:436:5\nassert.that/<@chrome://remote/content/shared/webdriver/Assert.sys.mjs:485:13\nassert.open@chrome://remote/content/shared/webdriver/Assert.sys.mjs:147:4\nGeckoDriver.prototype.findElement@chrome://remote/content/marionette/driver.sys.mjs:1480:15\ndespatch@chrome://remote/content/marionette/server.sys.mjs:303:40\nexecute@chrome://remote/content/marionette/server.sys.mjs:276:16\nonPacket/<@chrome://remote/content/marionette/server.sys.mjs:249:20\nonPacket@chrome://remote/content/marionette/server.sys.mjs:250:9\n_onJSONObjectReady/<@chrome://remote/content/marionette/transport.sys.mjs:496:20\n",
     "output_type": "error",
     "traceback": [
      "\u001b[1;31m---------------------------------------------------------------------------\u001b[0m",
      "\u001b[1;31mNoSuchWindowException\u001b[0m                     Traceback (most recent call last)",
      "\u001b[1;32mc:\\Kuliah\\Skripsi\\Data_emas\\scraping_only.ipynb Cell 2\u001b[0m in \u001b[0;36m<cell line: 18>\u001b[1;34m()\u001b[0m\n\u001b[0;32m     <a href='vscode-notebook-cell:/c%3A/Kuliah/Skripsi/Data_emas/scraping_only.ipynb#W4sZmlsZQ%3D%3D?line=9'>10</a>\u001b[0m driver\u001b[39m.\u001b[39mget(\u001b[39m\"\u001b[39m\u001b[39mhttps://www.logammulia.com/id/harga-emas-hari-ini\u001b[39m\u001b[39m\"\u001b[39m)\n\u001b[0;32m     <a href='vscode-notebook-cell:/c%3A/Kuliah/Skripsi/Data_emas/scraping_only.ipynb#W4sZmlsZQ%3D%3D?line=10'>11</a>\u001b[0m \u001b[39m# driver.implicitly_wait(5)\u001b[39;00m\n\u001b[0;32m     <a href='vscode-notebook-cell:/c%3A/Kuliah/Skripsi/Data_emas/scraping_only.ipynb#W4sZmlsZQ%3D%3D?line=11'>12</a>\u001b[0m \n\u001b[0;32m     <a href='vscode-notebook-cell:/c%3A/Kuliah/Skripsi/Data_emas/scraping_only.ipynb#W4sZmlsZQ%3D%3D?line=12'>13</a>\u001b[0m \n\u001b[0;32m     <a href='vscode-notebook-cell:/c%3A/Kuliah/Skripsi/Data_emas/scraping_only.ipynb#W4sZmlsZQ%3D%3D?line=13'>14</a>\u001b[0m \u001b[39m# waitdriver = WebDriverWait(driver, 5)\u001b[39;00m\n\u001b[0;32m     <a href='vscode-notebook-cell:/c%3A/Kuliah/Skripsi/Data_emas/scraping_only.ipynb#W4sZmlsZQ%3D%3D?line=14'>15</a>\u001b[0m \u001b[39m# element = waitdriver.until(lambda x: x.find_element(By.CLASS_NAME, \"highcharts-series-group\"))\u001b[39;00m\n\u001b[0;32m     <a href='vscode-notebook-cell:/c%3A/Kuliah/Skripsi/Data_emas/scraping_only.ipynb#W4sZmlsZQ%3D%3D?line=15'>16</a>\u001b[0m \u001b[39m# print(element.text)\u001b[39;00m\n\u001b[1;32m---> <a href='vscode-notebook-cell:/c%3A/Kuliah/Skripsi/Data_emas/scraping_only.ipynb#W4sZmlsZQ%3D%3D?line=17'>18</a>\u001b[0m chart \u001b[39m=\u001b[39m driver\u001b[39m.\u001b[39;49mfind_element(By\u001b[39m.\u001b[39;49mXPATH,\u001b[39m\"\u001b[39;49m\u001b[39m//g\u001b[39;49m\u001b[39m\"\u001b[39;49m)\n\u001b[0;32m     <a href='vscode-notebook-cell:/c%3A/Kuliah/Skripsi/Data_emas/scraping_only.ipynb#W4sZmlsZQ%3D%3D?line=18'>19</a>\u001b[0m \u001b[39mprint\u001b[39m(chart)\n",
      "File \u001b[1;32mc:\\Users\\ASUS\\.conda\\envs\\ml\\lib\\site-packages\\selenium\\webdriver\\remote\\webdriver.py:830\u001b[0m, in \u001b[0;36mWebDriver.find_element\u001b[1;34m(self, by, value)\u001b[0m\n\u001b[0;32m    827\u001b[0m     by \u001b[39m=\u001b[39m By\u001b[39m.\u001b[39mCSS_SELECTOR\n\u001b[0;32m    828\u001b[0m     value \u001b[39m=\u001b[39m \u001b[39mf\u001b[39m\u001b[39m'\u001b[39m\u001b[39m[name=\u001b[39m\u001b[39m\"\u001b[39m\u001b[39m{\u001b[39;00mvalue\u001b[39m}\u001b[39;00m\u001b[39m\"\u001b[39m\u001b[39m]\u001b[39m\u001b[39m'\u001b[39m\n\u001b[1;32m--> 830\u001b[0m \u001b[39mreturn\u001b[39;00m \u001b[39mself\u001b[39;49m\u001b[39m.\u001b[39;49mexecute(Command\u001b[39m.\u001b[39;49mFIND_ELEMENT, {\u001b[39m\"\u001b[39;49m\u001b[39musing\u001b[39;49m\u001b[39m\"\u001b[39;49m: by, \u001b[39m\"\u001b[39;49m\u001b[39mvalue\u001b[39;49m\u001b[39m\"\u001b[39;49m: value})[\u001b[39m\"\u001b[39m\u001b[39mvalue\u001b[39m\u001b[39m\"\u001b[39m]\n",
      "File \u001b[1;32mc:\\Users\\ASUS\\.conda\\envs\\ml\\lib\\site-packages\\selenium\\webdriver\\remote\\webdriver.py:440\u001b[0m, in \u001b[0;36mWebDriver.execute\u001b[1;34m(self, driver_command, params)\u001b[0m\n\u001b[0;32m    438\u001b[0m response \u001b[39m=\u001b[39m \u001b[39mself\u001b[39m\u001b[39m.\u001b[39mcommand_executor\u001b[39m.\u001b[39mexecute(driver_command, params)\n\u001b[0;32m    439\u001b[0m \u001b[39mif\u001b[39;00m response:\n\u001b[1;32m--> 440\u001b[0m     \u001b[39mself\u001b[39;49m\u001b[39m.\u001b[39;49merror_handler\u001b[39m.\u001b[39;49mcheck_response(response)\n\u001b[0;32m    441\u001b[0m     response[\u001b[39m\"\u001b[39m\u001b[39mvalue\u001b[39m\u001b[39m\"\u001b[39m] \u001b[39m=\u001b[39m \u001b[39mself\u001b[39m\u001b[39m.\u001b[39m_unwrap_value(response\u001b[39m.\u001b[39mget(\u001b[39m\"\u001b[39m\u001b[39mvalue\u001b[39m\u001b[39m\"\u001b[39m, \u001b[39mNone\u001b[39;00m))\n\u001b[0;32m    442\u001b[0m     \u001b[39mreturn\u001b[39;00m response\n",
      "File \u001b[1;32mc:\\Users\\ASUS\\.conda\\envs\\ml\\lib\\site-packages\\selenium\\webdriver\\remote\\errorhandler.py:245\u001b[0m, in \u001b[0;36mErrorHandler.check_response\u001b[1;34m(self, response)\u001b[0m\n\u001b[0;32m    243\u001b[0m         alert_text \u001b[39m=\u001b[39m value[\u001b[39m\"\u001b[39m\u001b[39malert\u001b[39m\u001b[39m\"\u001b[39m]\u001b[39m.\u001b[39mget(\u001b[39m\"\u001b[39m\u001b[39mtext\u001b[39m\u001b[39m\"\u001b[39m)\n\u001b[0;32m    244\u001b[0m     \u001b[39mraise\u001b[39;00m exception_class(message, screen, stacktrace, alert_text)  \u001b[39m# type: ignore[call-arg]  # mypy is not smart enough here\u001b[39;00m\n\u001b[1;32m--> 245\u001b[0m \u001b[39mraise\u001b[39;00m exception_class(message, screen, stacktrace)\n",
      "\u001b[1;31mNoSuchWindowException\u001b[0m: Message: Browsing context has been discarded\nStacktrace:\nRemoteError@chrome://remote/content/shared/RemoteError.sys.mjs:8:8\nWebDriverError@chrome://remote/content/shared/webdriver/Errors.sys.mjs:182:5\nNoSuchWindowError@chrome://remote/content/shared/webdriver/Errors.sys.mjs:436:5\nassert.that/<@chrome://remote/content/shared/webdriver/Assert.sys.mjs:485:13\nassert.open@chrome://remote/content/shared/webdriver/Assert.sys.mjs:147:4\nGeckoDriver.prototype.findElement@chrome://remote/content/marionette/driver.sys.mjs:1480:15\ndespatch@chrome://remote/content/marionette/server.sys.mjs:303:40\nexecute@chrome://remote/content/marionette/server.sys.mjs:276:16\nonPacket/<@chrome://remote/content/marionette/server.sys.mjs:249:20\nonPacket@chrome://remote/content/marionette/server.sys.mjs:250:9\n_onJSONObjectReady/<@chrome://remote/content/marionette/transport.sys.mjs:496:20\n"
     ]
    }
   ],
   "source": [
    "from selenium import webdriver\n",
    "from selenium.webdriver.common.by import By\n",
    "from selenium.webdriver.support.wait import WebDriverWait\n",
    "import json\n",
    "\n",
    "# initialize the webdriver\n",
    "driver = webdriver.Firefox()\n",
    "\n",
    "# navigate to the webpage containing the chart\n",
    "driver.get(\"https://www.logammulia.com/id/harga-emas-hari-ini\")\n",
    "# driver.implicitly_wait(5)\n",
    "\n",
    "\n",
    "# waitdriver = WebDriverWait(driver, 5)\n",
    "# element = waitdriver.until(lambda x: x.find_element(By.CLASS_NAME, \"highcharts-series-group\"))\n",
    "# print(element.text)\n",
    "\n",
    "chart = driver.find_element(By.XPATH,\"//g\")\n",
    "print(chart)\n",
    "# driver.execute_script('console.log(\"Rizal\")')\n",
    "# print(chart.get_attribute()\n",
    "# print(type(chart))\n",
    "# driver.execute_script('console.log(typeof(arguments[0]))',chart)\n",
    "# driver.execute_script(\"console.log(arguments[0].charts[0].series[0].xData)\", chart)\n",
    "\n",
    "# extract the chart data\n",
    "# data = driver.execute_script(\"return Highcharts\", chart)\n",
    "\n",
    "# parse the data as json\n",
    "# data = json.loads(data)\n",
    "\n",
    "# print the data\n",
    "# print(data)\n",
    "\n",
    "# close the webdriver\n",
    "# driver.close()"
   ]
  },
  {
   "cell_type": "code",
   "execution_count": 25,
   "metadata": {},
   "outputs": [
    {
     "name": "stdout",
     "output_type": "stream",
     "text": [
      "Help on method execute_script in module selenium.webdriver.remote.webdriver:\n",
      "\n",
      "execute_script(script, *args) method of selenium.webdriver.firefox.webdriver.WebDriver instance\n",
      "    Synchronously Executes JavaScript in the current window/frame.\n",
      "    \n",
      "    :Args:\n",
      "     - script: The JavaScript to execute.\n",
      "     - \\*args: Any applicable arguments for your JavaScript.\n",
      "    \n",
      "    :Usage:\n",
      "        ::\n",
      "    \n",
      "            driver.execute_script('return document.title;')\n",
      "\n"
     ]
    }
   ],
   "source": [
    "help(driver.execute_script)"
   ]
  },
  {
   "cell_type": "code",
   "execution_count": 13,
   "metadata": {},
   "outputs": [],
   "source": [
    "driver = webdriver.Firefox()\n",
    "driver.get('https://www.logammulia.com/id/harga-emas-hari-ini')\n",
    "element = driver.find_element(By.CLASS_NAME,\"highcharts-container\")\n",
    "tugas = element.text\n",
    "driver.close()"
   ]
  },
  {
   "cell_type": "code",
   "execution_count": 14,
   "metadata": {},
   "outputs": [
    {
     "data": {
      "text/plain": [
       "'24. Oct25. Sep27. Sep1. Oct2. Oct3. Oct11. Oct19. Oct6. Aug6. Sep16. Sep30. Sep2…650k655k660k665kZoom1d1w1m3mFromSep 24, 2018ToOct 24, 2018Highcharts.com'"
      ]
     },
     "execution_count": 14,
     "metadata": {},
     "output_type": "execute_result"
    }
   ],
   "source": [
    "tugas"
   ]
  }
 ],
 "metadata": {
  "kernelspec": {
   "display_name": "ml",
   "language": "python",
   "name": "python3"
  },
  "language_info": {
   "codemirror_mode": {
    "name": "ipython",
    "version": 3
   },
   "file_extension": ".py",
   "mimetype": "text/x-python",
   "name": "python",
   "nbconvert_exporter": "python",
   "pygments_lexer": "ipython3",
   "version": "3.9.15"
  },
  "orig_nbformat": 4,
  "vscode": {
   "interpreter": {
    "hash": "d01fe065e65a9a7090bdde0d429bd23f451d47c2164c4c53fafca7dd1dcc4dc1"
   }
  }
 },
 "nbformat": 4,
 "nbformat_minor": 2
}
