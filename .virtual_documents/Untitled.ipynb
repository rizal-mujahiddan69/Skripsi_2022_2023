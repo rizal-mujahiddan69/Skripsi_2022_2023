import pandas as pd 
import numpy as np


data_multi_df = pd.read_csv('dataset_transform_multivariate.csv')
data_multi_df.describe().to_csv('dataset_transform_multivariate_describe.csv')
